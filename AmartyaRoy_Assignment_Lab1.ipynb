{
  "nbformat": 4,
  "nbformat_minor": 0,
  "metadata": {
    "colab": {
      "name": "AmartyaRoy_Assignment_Lab1.ipynb",
      "private_outputs": true,
      "provenance": [],
      "collapsed_sections": [],
      "authorship_tag": "ABX9TyO7AJ+7Ij7mkhFgr9UK+wkx",
      "include_colab_link": true
    },
    "kernelspec": {
      "name": "python3",
      "display_name": "Python 3"
    }
  },
  "cells": [
    {
      "cell_type": "markdown",
      "metadata": {
        "id": "view-in-github",
        "colab_type": "text"
      },
      "source": [
        "<a href=\"https://colab.research.google.com/github/Aryabhatt-O/Mohanbugan/blob/main/AmartyaRoy_Assignment_Lab1.ipynb\" target=\"_parent\"><img src=\"https://colab.research.google.com/assets/colab-badge.svg\" alt=\"Open In Colab\"/></a>"
      ]
    },
    {
      "cell_type": "markdown",
      "metadata": {
        "id": "DwbnEHEhhL7a"
      },
      "source": [
        "##### Make one pdf file with problem description, flowchart or pseudo-code or algorithm, code, input screenshot and output screenshot for each problem in consecutive order.\r\n",
        "#ASSIGNMENT – 1 SET-1\r\n",
        "\r\n",
        "1.  Divide and Conquer\r\n",
        " Use the divide-and-conquer strategy to find an element in a given list.\r\n",
        "Given a list L of n elements that are sorted into a definite order (e.g.,\r\n",
        "numeric, alphabetical), and given a particular element x, determine\r\n",
        "whether x appears in the list, and if so, return its position in the list.\r\n",
        "\r\n",
        "2. Multiplication of two n digit numbers takes n2 multiplication operations. A variation of this multiplication using a divide-and-conquer strategy uses the\r\n",
        "following approach:\r\n",
        "A ∗ B = A1 ∗ B110n + (A1 ∗ B2 + A2 ∗ B1) 10n/2 + A2 ∗ B2\r\n",
        "The idea is to decrease the number of multiplications from 4 to 3:\r\n",
        "(A1 + A2 ) ∗ (B1 + B2 ) = A1 ∗ B1 + (A1 ∗ B2 + A2 ∗ B1) + A2 ∗ B2,\r\n",
        "i.e., (A1 ∗ B2 + A2 ∗ B1) = (A1 + A2 ) ∗ (B1 + B2 ) - A1 ∗ B1 - A2 ∗ B2,\r\n",
        "which requires only three multiplications at the expense of extra add/sub.\r\n",
        "Use recurrence relations to find the number of multiplication operations\r\n",
        "required using this approach.\r\n",
        "\r\n",
        "3. To count the number of inversions of a given ascending sequence in reverse order.\r\n",
        " Input Format. The first line contains an integer n, the next one\r\n",
        "contains an ascending sequence of integers a0, a1,…, a(n-1). Output the\r\n",
        "number of inversions in the reversed ordered sequence.\r\n",
        "\r\n",
        "4. Compute the product of 2 64-bit numbers.\r\n",
        "\r\n",
        "5. Implement Quick Sort algorithm.\r\n",
        "\r\n",
        "6. Implement Binary Search algorithm."
      ]
    },
    {
      "cell_type": "markdown",
      "metadata": {
        "id": "02RKig3Sjwsb"
      },
      "source": [
        "# Solutions\r\n"
      ]
    },
    {
      "cell_type": "markdown",
      "metadata": {
        "id": "SLEIhqZK_3YM"
      },
      "source": [
        "## 1.**Interpolation Search**\r\n",
        "\r\n",
        "[Awesome read](https://medium.com/@smellycode/demystifying-interpolation-formula-for-interpolation-search-211780c43269)"
      ]
    },
    {
      "cell_type": "code",
      "metadata": {
        "id": "eLhGUUAdInMc"
      },
      "source": [
        "def interpolationSearch(array, low, high, key):\r\n",
        "  while (low <= high and key >= array[low] and key <= array[high]):\r\n",
        "    pos = low + ((high - low) // (array[high] - array[low]) *(key - array[low]))\r\n",
        "    if array[pos] == key:\r\n",
        "      return pos\r\n",
        "    elif array[pos] < key:\r\n",
        "      return interpolationSearch(array, pos + 1,high, key)\r\n",
        "    if array[pos] > key:\r\n",
        "      return interpolationSearch(array, low,pos - 1, key)\r\n",
        "  return -1\r\n",
        "\r\n",
        "\r\n",
        "\r\n",
        "\r\n",
        "if __name__ == \"__main__\":\r\n",
        "  array = sorted(list(map(int, input(\"enter your array sep by comma: \").split(\",\"))))\r\n",
        "  n = len(array)\r\n",
        "  x = int(input(\"enter the no you want to  find: \"))\r\n",
        "  index = interpolationSearch(array, 1, n-1, x)\r\n",
        "  if index != -1:\r\n",
        "    print(\"Element found at index\", index)\r\n",
        "  else:\r\n",
        "    print(\"Element not found\")\r\n"
      ],
      "execution_count": null,
      "outputs": []
    },
    {
      "cell_type": "markdown",
      "metadata": {
        "id": "2Z_hzsMHkA-z"
      },
      "source": [
        "###  6.Given a list L of n elements that are sorted into a definite order (e.g., numeric, alphabetical), and given a particular element x, determine whether x appears in the list, and if so, return its position in the list.\r\n",
        "\r\n",
        "[Read](https://www.geeksforgeeks.org/complexity-analysis-of-binary-search/)"
      ]
    },
    {
      "cell_type": "code",
      "metadata": {
        "id": "D55qLRFhhVQW"
      },
      "source": [
        "def Binarysearch(array,element):\r\n",
        "  start = 0\r\n",
        "  end = len(array)-1\r\n",
        "  while start <= end:\r\n",
        "    mid = ((start+end)//2)\r\n",
        "    if (array[mid] > element):\r\n",
        "      end =  mid-1\r\n",
        "    elif (array[mid] < element):\r\n",
        "      start = mid + 1\r\n",
        "    else:\r\n",
        "      return mid\r\n",
        "  return -1\r\n",
        "\r\n",
        "if __name__ == \"__main__\":\r\n",
        "  array = sorted(list(map(int, input(\"enter your array sep by comma: \").split(\",\"))))\r\n",
        "  print(\"sorted array: \" ,array)\r\n",
        "  element = int(input(\"enter the element you want to search: \"))\r\n",
        "  result = Binarysearch(array,element)\r\n",
        "  if  result == -1:\r\n",
        "    print(\"No such element is present\")\r\n",
        "  else:\r\n",
        "    print(\"the position of the element is \",result)\r\n",
        "      "
      ],
      "execution_count": null,
      "outputs": []
    },
    {
      "cell_type": "markdown",
      "metadata": {
        "id": "WlDHMfSd3oXq"
      },
      "source": [
        "### 3. To count the number of inversions of a given ascending sequence in reverse order. Input Format. The first line contains an integer n, the next one contains an ascending sequence of integers a0, a1,…, a(n-1). Output the number of inversions in the reversed ordered sequence."
      ]
    },
    {
      "cell_type": "code",
      "metadata": {
        "id": "iTJJBP-JxPsa"
      },
      "source": [
        "def countInversion(array, n):\r\n",
        "  inversion_count = 0\r\n",
        "  for i in range(n):\r\n",
        "    for j in range(i + 1, n):\r\n",
        "      if (array[i] > array[j]):\r\n",
        "        inversion_count += 1\r\n",
        "\r\n",
        "  return inversion_count \r\n",
        "\r\n",
        "if __name__ == \"__main__\":\r\n",
        "  array = list(map(int, input(\"enter your array sep by comma: \").split(\",\")))\r\n",
        "  n = len(array) \r\n",
        "  print(\"Total number of inversions are\",countInversion(array,n))\r\n",
        "\r\n",
        " \r\n"
      ],
      "execution_count": null,
      "outputs": []
    },
    {
      "cell_type": "code",
      "metadata": {
        "id": "DOApad6Hye-b"
      },
      "source": [
        "def mergesort(arr1,arr2):\r\n",
        "  i,j = 0,0\r\n",
        "  len1,len2 = len(arr1),len(arr2)\r\n",
        "  arr = []\r\n",
        "  while (i < len1) and (j < len2):\r\n",
        "    if (arr1[i] < arr2[j]):\r\n",
        "      arr.append(arr1[i])\r\n",
        "      i += 1\r\n",
        "    else:\r\n",
        "      arr.append(arr2[j])\r\n",
        "      j += 1\r\n",
        "  while (i < len1):\r\n",
        "     arr.append(arr1[i])\r\n",
        "     i += 1\r\n",
        "  while (j < len2):\r\n",
        "     arr.append(arr2[j])\r\n",
        "     j += 1\r\n",
        "\r\n",
        "  print(arr)\r\n",
        "\r\n",
        "if __name__ == \"__main__\":\r\n",
        "  arr1 = [1,2,5,6]\r\n",
        "  arr2 = [0,3,4,7,8]\r\n",
        "  mergesort(arr1,arr2)"
      ],
      "execution_count": null,
      "outputs": []
    },
    {
      "cell_type": "markdown",
      "metadata": {
        "id": "QlzR9WQ1hCtL"
      },
      "source": [
        ""
      ]
    },
    {
      "cell_type": "markdown",
      "metadata": {
        "id": "KHtn-8FDhNBr"
      },
      "source": [
        "###### 2. Multiplication of two n digit numbers takes n2 multiplication operations. A variation of this multiplication using a divide-and-conquer strategy uses the following approach: A ∗ B = A1 ∗ B110n + (A1 ∗ B2 + A2 ∗ B1) 10n/2 + A2 ∗ B2 The idea is to decrease the number of multiplications from 4 to 3: (A1 + A2 ) ∗ (B1 + B2 ) = A1 ∗ B1 + (A1 ∗ B2 + A2 ∗ B1) + A2 ∗ B2, i.e., (A1 ∗ B2 + A2 ∗ B1) = (A1 + A2 ) ∗ (B1 + B2 ) - A1 ∗ B1 - A2 ∗ B2, which requires only three multiplications at the expense of extra add/sub. Use recurrence relations to find the number of multiplication operations required using this approach."
      ]
    },
    {
      "cell_type": "code",
      "metadata": {
        "id": "Y2MYMXdC19F7"
      },
      "source": [
        "import math\r\n",
        "count = 0\r\n",
        "def karatsuba(a, b):\r\n",
        "    global count\r\n",
        "    if a < 10 and b < 10:\r\n",
        "      count += 1\r\n",
        "      return a * b\r\n",
        "\r\n",
        "    n = max(len(str(a)), len(str(b)))\r\n",
        "    m = int(math.ceil(float(n) / 2))\r\n",
        "\r\n",
        "    \r\n",
        "    a_h = int(math.floor(a / 10 ** m)) # divide a into two half\r\n",
        "    a_l = int(a % (10 ** m))\r\n",
        "\r\n",
        "   \r\n",
        "    b_h = int(math.floor(b/ 10 ** m))  # divide b into two half\r\n",
        "    b_l = int(b % (10 ** m))\r\n",
        "\r\n",
        "    \r\n",
        "    k1 = karatsuba(a_h, b_h) # Karatsuba's algorithm.\r\n",
        "    k2 = karatsuba(a_l, b_l)\r\n",
        "    k3 = karatsuba(a_h + a_l, b_h + b_l)\r\n",
        "    k4 = k3 - k2 - k1\r\n",
        "\r\n",
        "    return int(k1 * (10 ** (m*2)) + k4 * (10 ** m) + k2)\r\n",
        "\r\n",
        "if __name__ == \"__main__\":\r\n",
        "  firstnum = int(input(\"enter the 1st number: \"))\r\n",
        "  secondnum = int(input(\"enter the 2nd number: \"))\r\n",
        "  print(\"The product of these two numbers are:\", karatsuba(firstnum,secondnum), \"and  the number of multiplication operations required using this approach is: \",count)\r\n"
      ],
      "execution_count": null,
      "outputs": []
    },
    {
      "cell_type": "markdown",
      "metadata": {
        "id": "2quDvcmShzS8"
      },
      "source": [
        "### 4. Compute the product of 2 64-bit numbers."
      ]
    },
    {
      "cell_type": "code",
      "metadata": {
        "id": "i5GHc8ZnN2tP"
      },
      "source": [
        "def add_with_carry(result, addend, addendpos):\r\n",
        "    while True:\r\n",
        "        while len(result) < addendpos + 1:\r\n",
        "            result.append(0)\r\n",
        "        addend_result = str(int(addend) + int(result[addendpos]))\r\n",
        "        addend_digits = list(addend_result)\r\n",
        "        result[addendpos] = addend_digits.pop()\r\n",
        " \r\n",
        "        if not addend_digits:\r\n",
        "            break\r\n",
        "        addend = addend_digits.pop()\r\n",
        "        addendpos += 1\r\n",
        " \r\n",
        "def longhand_multiplication(multiplicand, multiplier):\r\n",
        "    result = []\r\n",
        "    for multiplicand_offset, multiplicand_digit in enumerate(reversed(multiplicand)):\r\n",
        "        for multiplier_offset, multiplier_digit in enumerate(reversed(multiplier), start=multiplicand_offset):\r\n",
        "            multiplication_result = str(int(multiplicand_digit) * int(multiplier_digit))\r\n",
        " \r\n",
        "            for addend_offset, result_digit_addend in enumerate(reversed(multiplication_result), start=multiplier_offset):\r\n",
        "                add_with_carry(result, result_digit_addend, addend_offset)\r\n",
        " \r\n",
        "    result.reverse()\r\n",
        " \r\n",
        "    return ''.join(result)\r\n",
        " \r\n",
        "if __name__ == \"__main__\":\r\n",
        "    sixtyfour = \"18446744073709551616\"\r\n",
        " \r\n",
        "    result = longhand_multiplication(sixtyfour, sixtyfour)\r\n",
        "    print(result)"
      ],
      "execution_count": null,
      "outputs": []
    },
    {
      "cell_type": "markdown",
      "metadata": {
        "id": "KGNT4Y3IQYgM"
      },
      "source": [
        "### 5. Implement Quick Sort algorithm"
      ]
    },
    {
      "cell_type": "code",
      "metadata": {
        "id": "SbPvQD3XOpXk"
      },
      "source": [
        "def quicksort(x):\r\n",
        "    if len(x) == 1 or len(x) == 0:\r\n",
        "        return x\r\n",
        "    else:\r\n",
        "        pivot = x[0]\r\n",
        "        i = 0\r\n",
        "        for j in range(len(x)-1):\r\n",
        "            if x[j+1] < pivot:\r\n",
        "                x[j+1],x[i+1] = x[i+1], x[j+1]\r\n",
        "                i += 1\r\n",
        "        x[0],x[i] = x[i],x[0]\r\n",
        "        first_subarray = quicksort(x[:i])\r\n",
        "        second_subarray = quicksort(x[i+1:])\r\n",
        "        first_subarray.append(x[i])\r\n",
        "        return first_subarray + second_subarray\r\n",
        "x = list(map(int, input(\"enter your array sep by comma: \").split(\",\")))\r\n",
        "print(quicksort(x))"
      ],
      "execution_count": null,
      "outputs": []
    },
    {
      "cell_type": "code",
      "metadata": {
        "id": "tSmmGXesd5pr"
      },
      "source": [
        "def multiply(num1, num2): \r\n",
        "    len1 = len(num1) \r\n",
        "    len2 = len(num2) \r\n",
        "    if len1 == 0 or len2 == 0: \r\n",
        "        return \"0\"\r\n",
        "    result = [0] * (len1 + len2)\r\n",
        "    i_n1 = 0\r\n",
        "    i_n2 = 0\r\n",
        "    for i in range(len1 - 1, -1, -1):\r\n",
        "      carry = 0\r\n",
        "      n1 = ord(num1[i]) \r\n",
        "      i_n2 = 0\r\n",
        "    for j in range(len2 - 1, -1, -1):\r\n",
        "      n2 = ord(num2[j]) \r\n",
        "      summ = n1 * n2 + result[i_n1 + i_n2] + carry \r\n",
        "      carry = summ // 10\r\n",
        "      result[i_n1 + i_n2] = summ % 10\r\n",
        "      i_n2 += 1\r\n",
        "     \r\n",
        "    i = len(result) - 1\r\n",
        "    while (i >= 0 and result[i] == 0): \r\n",
        "        i -= 1\r\n",
        "    if (i == -1):\r\n",
        "      return \"0\"\r\n",
        "    s = \"\" \r\n",
        "    while (i >= 0):\r\n",
        "      s += chr(result[i] + 48)\r\n",
        "      i -= 1\r\n",
        "    return s \r\n",
        "\r\n",
        "str1 = input(\"enter the 1st no: \")\r\n",
        "str2 = input(\"enter the 2nd no: \")\r\n",
        "  \r\n",
        "if((str1[0] == '-' or str2[0] == '-') and \r\n",
        "   (str1[0] != '-' or str2[0] != '-')): \r\n",
        "    print(\"-\", end = '') \r\n",
        "if(str1[0] == '-' and str2[0] != '-'): \r\n",
        "    str1 = str1[1:] \r\n",
        "elif(str1[0] != '-' and str2[0] == '-'): \r\n",
        "    str2 = str2[1:] \r\n",
        "elif(str1[0] == '-' and str2[0] == '-'): \r\n",
        "    str1 = str1[1:] \r\n",
        "    str2 = str2[1:] \r\n",
        "print(multiply(str1, str2))"
      ],
      "execution_count": null,
      "outputs": []
    }
  ]
}