{
  "nbformat": 4,
  "nbformat_minor": 0,
  "metadata": {
    "colab": {
      "name": "Amartya_Assignmentlab2.ipynb",
      "private_outputs": true,
      "provenance": [],
      "authorship_tag": "ABX9TyO3j7Rq2pdmtl7sQQoCwOtx",
      "include_colab_link": true
    },
    "kernelspec": {
      "name": "python3",
      "display_name": "Python 3"
    }
  },
  "cells": [
    {
      "cell_type": "markdown",
      "metadata": {
        "id": "view-in-github",
        "colab_type": "text"
      },
      "source": [
        "<a href=\"https://colab.research.google.com/github/Aryabhatt-O/Mohanbugan/blob/main/Amartya_Assignmentlab2.ipynb\" target=\"_parent\"><img src=\"https://colab.research.google.com/assets/colab-badge.svg\" alt=\"Open In Colab\"/></a>"
      ]
    },
    {
      "cell_type": "markdown",
      "metadata": {
        "id": "_AEbbgpQv7vu"
      },
      "source": [
        "##Assignment 2\r\n",
        "\r\n",
        "1.Implement a program to convert decimal to binary and binary to\r\n",
        "hexadecimal numbers.\r\n",
        "\r\n",
        "2.Write a program to print out all Armstrong numbers between 1 and 500. If\r\n",
        "the sum of cubes of each digit of the number is equal to the number itself,\r\n",
        "then the number is called an Armstrong number. \r\n",
        "3. Write a program to compute factorial of numbers less than 10 and bigger\r\n",
        "than 10 upto 100.\r\n",
        "4. Write a program to implement Heap sort.\r\n",
        "5. Write a program to implement TimSort algorithm.\r\n",
        "6. Write a program to implement Odd-Even Sort.\r\n",
        "7. Write a program to implement Iterative Deepening Depth First Search(IDDFS) algorithm.\r\n",
        "8. Write a program to implement Fibonacci search algorithm."
      ]
    },
    {
      "cell_type": "markdown",
      "metadata": {
        "id": "6JDwcUq9LJhR"
      },
      "source": [
        "**Decimal-->Binary**"
      ]
    },
    {
      "cell_type": "code",
      "metadata": {
        "id": "1CDgFluRM-aw"
      },
      "source": [
        "def Decimal2Binary(n):\r\n",
        "  if n >= 1:\r\n",
        "    Decimal2Binary(n // 2)\r\n",
        "    print(n % 2, end = '')\r\n",
        "\r\n",
        "if __name__ == \"__main__\":\r\n",
        "  n = int(input(\"enter your decimal no: \"))\r\n",
        "  Decimal2Binary(n)"
      ],
      "execution_count": null,
      "outputs": []
    },
    {
      "cell_type": "markdown",
      "metadata": {
        "id": "DrwwWgBIjYje"
      },
      "source": [
        "### Write a program to compute factorial of numbers less than 10 and bigger than 10 upto 100"
      ]
    },
    {
      "cell_type": "code",
      "metadata": {
        "id": "CPG5bmeraAWP"
      },
      "source": [
        "def range_prod(lo,hi):\r\n",
        "    if lo+1 < hi:\r\n",
        "        mid = (hi+lo)//2\r\n",
        "        return range_prod(lo,mid) * range_prod(mid+1,hi)\r\n",
        "    if lo == hi:\r\n",
        "        return lo\r\n",
        "    return lo*hi\r\n",
        "\r\n",
        "def treefactorial(n):\r\n",
        "    if n < 2:\r\n",
        "        return 1\r\n",
        "    return range_prod(1,n)\r\n",
        "\r\n",
        "if __name__ == \"__main__\":\r\n",
        "  n = int(input(\"enter any number: \"))\r\n",
        "  print(\"the factorial number is: \",treefactorial(n))"
      ],
      "execution_count": null,
      "outputs": []
    },
    {
      "cell_type": "markdown",
      "metadata": {
        "id": "vrcQ23JALBIx"
      },
      "source": [
        "**Binary--> Decimal-->Hexa**"
      ]
    },
    {
      "cell_type": "code",
      "metadata": {
        "id": "UGr8gi5ZC26o"
      },
      "source": [
        "\r\n",
        "def Binary2Hex(n):\r\n",
        "  if (n < 0):\r\n",
        "    print(0)\r\n",
        "  elif (n<=1):\r\n",
        "    print(n)\r\n",
        "  else:\r\n",
        "    Binary2Hex( n // 16 )\r\n",
        "    x =(n%16)\r\n",
        "    if (x < 10):\r\n",
        "      print(x), \r\n",
        "    if (x == 10):\r\n",
        "      print(\"A\")\r\n",
        "    if (x == 11):\r\n",
        "      print(\"B\")\r\n",
        "    if (x == 12):\r\n",
        "      print(\"C\")\r\n",
        "    if (x == 13):\r\n",
        "      print(\"D\")\r\n",
        "    if (x == 14):\r\n",
        "      print(\"E\")\r\n",
        "    if (x == 15):\r\n",
        "      print (\"F\")\r\n",
        "\r\n",
        "\r\n",
        "\r\n",
        "if __name__ == \"__main__\":\r\n",
        "  m = input(\"enter your binary no: \")\r\n",
        "  n = int(m,2) # this step converts binary no to decimal \r\n",
        "  Binary2Hex(n)\r\n",
        "  "
      ],
      "execution_count": null,
      "outputs": []
    },
    {
      "cell_type": "code",
      "metadata": {
        "id": "O9ium30cElVs"
      },
      "source": [
        "class Graph:\r\n",
        "  def __init__(self, nVertices):\r\n",
        "    self.nVertices = nVertices\r\n",
        "    self.adjMatrices = [[0 for j in range(nVertices)]for i in range(nVertices)]\r\n",
        "\r\n",
        "\r\n",
        "  def addEdge(self, v1, v2):\r\n",
        "    self.adjMatrices[v1][v2] = 1\r\n",
        "    self.adjMatrices[v2][v1] = 1\r\n",
        "\r\n",
        "  def  containEdges(self,v1,v2):\r\n",
        "    return True if self.adjMatrices[v1][v2] > 0 else False\r\n",
        "\r\n",
        "\r\n",
        "  def __str__(self):\r\n",
        "    return str(self.adjMatrices)\r\n",
        "\r\n",
        "\r\n",
        "  def Depth_Limited_search(self,src,target,maxDepth):\r\n",
        "    if src == target:\r\n",
        "      return True\r\n",
        "    if maxDepth <= 0:\r\n",
        "      return False\r\n",
        "    for i in range(self.nVertices):\r\n",
        "      if self.adjMatrices[i][src] > 0:\r\n",
        "        if(self.Depth_Limited_search(i,target,maxDepth-1)):\r\n",
        "          return True\r\n",
        "    return False\r\n",
        "\r\n",
        "  def IDDFS(self,src, target, maxDepth):\r\n",
        "    for i in range(maxDepth):\r\n",
        "      if (self.Depth_Limited_search(src, target, i)):\r\n",
        "        return True\r\n",
        "      return False\r\n",
        "\r\n",
        "\r\n",
        "\r\n",
        "g = Graph (7) \r\n",
        "g.addEdge(0, 1) \r\n",
        "g.addEdge(0, 2) \r\n",
        "g.addEdge(1, 3) \r\n",
        "g.addEdge(1, 4) \r\n",
        "g.addEdge(2, 5) \r\n",
        "g.addEdge(2, 6) \r\n",
        "  \r\n",
        "target,maxDepth,src = 6,2,0\r\n",
        "  \r\n",
        "if g.IDDFS(src, target, maxDepth) == True: \r\n",
        "    print (\"Yes target is visited within max depth\") \r\n",
        "else : \r\n",
        "    print (\"No, target is not visited within max depth\") "
      ],
      "execution_count": null,
      "outputs": []
    },
    {
      "cell_type": "markdown",
      "metadata": {
        "id": "Z2xjdeOoemgi"
      },
      "source": [
        "[link text](https://laptrinhx.com/implementing-fibonacci-search-algorithm-in-python-daily-python-27-2380599932/)\r\n",
        "\r\n",
        "[link text](https://www.youtube.com/watch?v=5_zlqKi01zQ)\r\n",
        "\r\n"
      ]
    },
    {
      "cell_type": "code",
      "metadata": {
        "id": "Oxr3ww7OgB1-"
      },
      "source": [
        "\r\n",
        "arr = [10, 22, 30, 44, 70, 100, 110, 130] \r\n",
        "x = 70\r\n",
        "def FibonacciSearch(arr, x):\r\n",
        "    m = 0 \r\n",
        "    while FibonacciGenerator(m) < len(arr): # \r\n",
        "        m = m + 1 \r\n",
        "    offset = -1    \r\n",
        "    while (FibonacciGenerator(m) > 1):\r\n",
        "        i = min( offset + FibonacciGenerator(m - 2) , len(arr) - 1)\r\n",
        "        if (x > arr[i]):\r\n",
        "            m = m - 1\r\n",
        "            offset = i\r\n",
        "        elif (x < arr[i]):\r\n",
        "            m = m - 2\r\n",
        "        else:\r\n",
        "            return i        \r\n",
        "    if(FibonacciGenerator(m - 1) and arr[offset + 1] == x):\r\n",
        "        return offset + 1\r\n",
        "    return -1\r\n",
        "print('Number found at index : ',FibonacciSearch(arr, x))\r\n",
        "\r\n",
        "\r\n",
        "if __name__ == \"__main__\":\r\n",
        "  arr = [10, 22, 30, 44, 70, 100, 110, 130]\r\n",
        "  x = 70\r\n",
        "  FibonacciSearch(arr, x)"
      ],
      "execution_count": null,
      "outputs": []
    },
    {
      "cell_type": "code",
      "metadata": {
        "id": "AXNiAJS1riaP"
      },
      "source": [
        "def brick_Sort(arr, n): \r\n",
        "\tisSorted = 0\r\n",
        "\twhile isSorted == 0: \r\n",
        "\t\tisSorted = 1\r\n",
        "\t\ttemp = 0\r\n",
        "\t\tfor i in range(1, n-1, 2): \r\n",
        "\t\t\tif arr[i] > arr[i+1]: \r\n",
        "\t\t\t\tarr[i], arr[i+1] = arr[i+1], arr[i] \r\n",
        "\t\t\t\tisSorted = 0\r\n",
        "\t\t\t\t\r\n",
        "\t\tfor i in range(0, n-1, 2): \r\n",
        "\t\t\tif arr[i] > arr[i+1]: \r\n",
        "\t\t\t\tarr[i], arr[i+1] = arr[i+1], arr[i] \r\n",
        "\t\t\t\tisSorted = 0\r\n",
        "\t\r\n",
        "\treturn\r\n",
        "\r\n",
        "[233,44,77,-345,100]\r\n",
        "arr =  \r\n",
        "n = len(arr) \r\n",
        "\r\n",
        "brick_Sort(arr, n); \r\n",
        "for i in range(0, n): \r\n",
        "\tprint(arr[i], end = ' ') \r\n",
        "\t\r\n",
        "\r\n"
      ],
      "execution_count": null,
      "outputs": []
    },
    {
      "cell_type": "markdown",
      "metadata": {
        "id": "DHLr5KBAKKwe"
      },
      "source": [
        "[**Tim Sort**](https://gist.github.com/nandajavarma/a3a6b62f34e74ec4c31674934327bbd3)\r\n",
        "\r\n"
      ]
    },
    {
      "cell_type": "code",
      "metadata": {
        "id": "H2TjNm_wwQXv"
      },
      "source": [
        "the_array = [233,44,77,-345,100]\r\n",
        "def binary_search(the_array, item, start, end):\r\n",
        "    if start == end:\r\n",
        "        if the_array[start] > item:\r\n",
        "            return start\r\n",
        "        else:\r\n",
        "            return start + 1\r\n",
        "    if start > end:\r\n",
        "        return start\r\n",
        "\r\n",
        "    mid = (start + end)// 2\r\n",
        "    if the_array[mid] < item:\r\n",
        "        return binary_search(the_array, item, mid + 1, end)\r\n",
        "    elif the_array[mid] > item:\r\n",
        "        return binary_search(the_array, item, start, mid - 1)\r\n",
        "    else:\r\n",
        "        return mid\r\n",
        "\r\n",
        "\r\n",
        "\"\"\"\r\n",
        "Insertion sort that the heap sort uses if the array size is small or if\r\n",
        "the size of the \"run\" is small\r\n",
        "\"\"\"\r\n",
        "def insertion_sort(the_array):\r\n",
        "    l = len(the_array)\r\n",
        "    for index in range(1, l):\r\n",
        "        value = the_array[index]\r\n",
        "        pos = binary_search(the_array, value, 0, index - 1)\r\n",
        "        the_array = the_array[:pos] + [value] + the_array[pos:index] + the_array[index+1:]\r\n",
        "    return the_array\r\n",
        "\r\n",
        "def merge(left, right):\r\n",
        "    \"\"\"Takes two sorted lists and returns a single sorted list by comparing the\r\n",
        "    elements one at a time.\r\n",
        "    [1, 2, 3, 4, 5, 6]\r\n",
        "    \"\"\"\r\n",
        "    if not left:\r\n",
        "        return right\r\n",
        "    if not right:\r\n",
        "        return left\r\n",
        "    if left[0] < right[0]:\r\n",
        "        return [left[0]] + merge(left[1:], right)\r\n",
        "    return [right[0]] + merge(left, right[1:])\r\n",
        "\r\n",
        "\r\n",
        "def timsort(the_array):\r\n",
        "    runs, sorted_runs = [], []\r\n",
        "    l = len(the_array)\r\n",
        "    new_run = [the_array[0]]\r\n",
        "    for i in range(1, l):\r\n",
        "        if i == l-1:\r\n",
        "            new_run.append(the_array[i])\r\n",
        "            runs.append(new_run)\r\n",
        "            break\r\n",
        "        if the_array[i] < the_array[i-1]:\r\n",
        "            if not new_run:\r\n",
        "                runs.append([the_array[i-1]])\r\n",
        "                new_run.append(the_array[i])\r\n",
        "            else:\r\n",
        "                runs.append(new_run)\r\n",
        "                new_run = []\r\n",
        "        else:\r\n",
        "            new_run.append(the_array[i])\r\n",
        "    for each in runs:\r\n",
        "        sorted_runs.append(insertion_sort(each))\r\n",
        "    sorted_array = []\r\n",
        "    for run in sorted_runs:\r\n",
        "        sorted_array = merge(sorted_array, run)\r\n",
        "    print(sorted_array)\r\n",
        "\r\n",
        "the_array = [233,77,56,345,100]\r\n",
        "timsort(the_array)"
      ],
      "execution_count": null,
      "outputs": []
    },
    {
      "cell_type": "markdown",
      "metadata": {
        "id": "weqGYVNRJ-4_"
      },
      "source": [
        "\r\n",
        "\r\n",
        "[**Heap Sort(using minheap**)](https://github.com/hansrajdas/algorithms/blob/master/Level-3/heap_sort_using_min_heap.py)\r\n",
        "\r\n"
      ]
    },
    {
      "cell_type": "code",
      "metadata": {
        "id": "YWhlV98lxzos"
      },
      "source": [
        "def min_heapify(X, n, i):\r\n",
        "    left = (i << 1) + 1\r\n",
        "    right = (i << 1) + 2\r\n",
        "    min_idx = i\r\n",
        "    \r\n",
        "    if left < n and X[min_idx] > X[left]:\r\n",
        "        min_idx = left\r\n",
        "    if right < n and X[min_idx] > X[right]:\r\n",
        "        min_idx = right\r\n",
        "    if min_idx != i:\r\n",
        "      X[min_idx], X[i] = X[i], X[min_idx]\r\n",
        "      min_heapify(X, n, min_idx)\r\n",
        "\r\n",
        "def heap_sort(X):\r\n",
        "  for i in range(len(X) // 2, -1, -1):\r\n",
        "        min_heapify(X, len(X), i)\r\n",
        "  for i in range(len(X) - 1, 0, -1):\r\n",
        "    X[0], X[i] = X[i], X[0]\r\n",
        "    min_heapify(X, i, 0)  \r\n",
        "  return X\r\n",
        "\r\n",
        "print(\"In decresing order: \",heap_sort([233,77,56,345,100]))"
      ],
      "execution_count": null,
      "outputs": []
    },
    {
      "cell_type": "markdown",
      "metadata": {
        "id": "10ViwTxZKxmX"
      },
      "source": [
        "[**Armstrong Interval**](https://www.programiz.com/python-programming/examples/armstrong-interval)"
      ]
    },
    {
      "cell_type": "code",
      "metadata": {
        "id": "E5KcHq6i1888"
      },
      "source": [
        "lower = 10\r\n",
        "upper = 500\r\n",
        "for num in range(lower, upper + 1):\r\n",
        "   order = len(str(num))\r\n",
        "   sum = 0\r\n",
        "   temp = num\r\n",
        "   while temp > 0:\r\n",
        "       digit = temp % 10\r\n",
        "       sum += digit ** order\r\n",
        "       temp //= 10\r\n",
        "\r\n",
        "   if num == sum:\r\n",
        "       print(\"here are the armstrong numbers\",num)"
      ],
      "execution_count": null,
      "outputs": []
    }
  ]
}